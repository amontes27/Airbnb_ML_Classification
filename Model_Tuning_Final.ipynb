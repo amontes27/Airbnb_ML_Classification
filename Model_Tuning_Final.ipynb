{
 "cells": [
  {
   "cell_type": "code",
   "execution_count": 1,
   "id": "9c8e2948",
   "metadata": {},
   "outputs": [],
   "source": [
    "import pandas as pd\n",
    "import numpy as np\n",
    "import seaborn as sns\n",
    "import matplotlib.pyplot as plt\n",
    "from sklearn.metrics import mean_squared_error\n",
    "from sklearn.model_selection import cross_val_score,train_test_split\n",
    "from sklearn.metrics import mean_squared_error,r2_score,roc_curve,auc\n",
    "from sklearn.model_selection import KFold\n",
    "\n",
    "import statsmodels.formula.api as smf\n",
    "import statsmodels.api as sm\n",
    "\n",
    "\n",
    "from sklearn.tree import DecisionTreeRegressor,DecisionTreeClassifier\n",
    "from sklearn.model_selection import GridSearchCV, ParameterGrid, StratifiedKFold\n",
    "from sklearn.ensemble import GradientBoostingClassifier,BaggingRegressor,BaggingClassifier,RandomForestRegressor,RandomForestClassifier, AdaBoostClassifier\n",
    "from sklearn.ensemble import VotingRegressor, VotingClassifier, StackingRegressor, StackingClassifier, GradientBoostingRegressor,GradientBoostingClassifier, BaggingRegressor,BaggingClassifier,RandomForestRegressor,RandomForestClassifier,AdaBoostRegressor,AdaBoostClassifier\n",
    "from sklearn.linear_model import LinearRegression,LogisticRegression\n",
    "from sklearn.neighbors import KNeighborsRegressor\n",
    "import xgboost as xgb\n",
    "import itertools as it\n",
    "from pyearth import Earth\n",
    "\n",
    "#Libraries for visualizing trees\n",
    "from sklearn.tree import export_graphviz\n",
    "from six import StringIO\n",
    "from IPython.display import Image\n",
    "import pydotplus\n",
    "import time as time"
   ]
  },
  {
   "cell_type": "markdown",
   "id": "dc6c0724",
   "metadata": {},
   "source": [
    "# Data wrangling"
   ]
  },
  {
   "cell_type": "code",
   "execution_count": 2,
   "id": "89b5a5a1",
   "metadata": {},
   "outputs": [],
   "source": [
    "data = pd.read_csv('data6.csv')"
   ]
  },
  {
   "cell_type": "code",
   "execution_count": 3,
   "id": "ec52bf64",
   "metadata": {},
   "outputs": [],
   "source": [
    "data.dropna(axis = 0, inplace = True)"
   ]
  },
  {
   "cell_type": "code",
   "execution_count": 4,
   "id": "eb59b4fa",
   "metadata": {
    "scrolled": true
   },
   "outputs": [],
   "source": [
    "data = pd.get_dummies(data)"
   ]
  },
  {
   "cell_type": "code",
   "execution_count": 5,
   "id": "62620377",
   "metadata": {},
   "outputs": [],
   "source": [
    "X = data.drop(columns = ['y', 'review_scores_rating'])\n",
    "y = data['y']"
   ]
  },
  {
   "cell_type": "code",
   "execution_count": 6,
   "id": "18e68bc2",
   "metadata": {},
   "outputs": [],
   "source": [
    "Xtrain, Xtest, ytrain, ytest = train_test_split(X,y, train_size=0.8,random_state=1)"
   ]
  },
  {
   "cell_type": "markdown",
   "id": "54068130",
   "metadata": {},
   "source": [
    "# Classification"
   ]
  },
  {
   "cell_type": "code",
   "execution_count": 154,
   "id": "8a6b1fc7",
   "metadata": {},
   "outputs": [],
   "source": [
    "#Function to compute confusion matrix and prediction accuracy on test/train data\n",
    "def confusion_matrix_data(data,actual_values,model,cutoff=0.5):\n",
    "#Predict the values using the Logit model\n",
    "    pred_values = model.predict_proba(data)[:,1]\n",
    "# Specify the bins\n",
    "    bins=np.array([0,cutoff,1])\n",
    "#Confusion matrix\n",
    "    cm = np.histogram2d(actual_values, pred_values, bins=bins)[0]\n",
    "    cm_df = pd.DataFrame(cm)\n",
    "    cm_df.columns = ['Predicted 0','Predicted 1']\n",
    "    cm_df = cm_df.rename(index={0: 'Actual 0',1:'Actual 1'})\n",
    "# Calculate the accuracy\n",
    "    accuracy = 100*(cm[0,0]+cm[1,1])/cm.sum()\n",
    "    fnr = 100*(cm[1,0])/(cm[1,0]+cm[1,1])\n",
    "    precision = 100*(cm[1,1])/(cm[0,1]+cm[1,1])\n",
    "    fpr = 100*(cm[0,1])/(cm[0,0]+cm[0,1])\n",
    "    tpr = 100*(cm[1,1])/(cm[1,0]+cm[1,1])\n",
    "    print(\"Accuracy = \", accuracy)\n",
    "    print(\"Precision = \", precision)\n",
    "    print(\"FNR = \", fnr)\n",
    "    print(\"FPR = \", fpr)\n",
    "    print(\"TPR or Recall = \", tpr)\n",
    "    print(\"Confusion matrix = \\n\", cm_df)\n",
    "    return (\" \")"
   ]
  },
  {
   "cell_type": "markdown",
   "id": "8a162da3",
   "metadata": {},
   "source": [
    "# Base Non Linear Model - Decision Tree"
   ]
  },
  {
   "cell_type": "code",
   "execution_count": 9,
   "id": "f6b1ef12",
   "metadata": {},
   "outputs": [
    {
     "data": {
      "text/plain": [
       "DecisionTreeClassifier(random_state=1)"
      ]
     },
     "execution_count": 9,
     "metadata": {},
     "output_type": "execute_result"
    }
   ],
   "source": [
    "model = DecisionTreeClassifier(random_state=1)\n",
    "\n",
    "model.fit(Xtrain, ytrain)"
   ]
  },
  {
   "cell_type": "code",
   "execution_count": 10,
   "id": "82c185c0",
   "metadata": {},
   "outputs": [
    {
     "name": "stdout",
     "output_type": "stream",
     "text": [
      "Accuracy =  100.0\n",
      "Precision =  100.0\n",
      "FNR =  0.0\n",
      "FPR =  0.0\n",
      "TPR or Recall =  100.0\n",
      "Confusion matrix = \n",
      "           Predicted 0  Predicted 1\n",
      "Actual 0       1536.0          0.0\n",
      "Actual 1          0.0       1540.0\n",
      " \n"
     ]
    }
   ],
   "source": [
    "print(confusion_matrix_data(Xtrain,ytrain,model,cutoff = 0.5))"
   ]
  },
  {
   "cell_type": "code",
   "execution_count": 11,
   "id": "21b21557",
   "metadata": {
    "scrolled": false
   },
   "outputs": [
    {
     "name": "stdout",
     "output_type": "stream",
     "text": [
      "Accuracy =  65.32467532467533\n",
      "Precision =  63.97849462365591\n",
      "FNR =  35.84905660377358\n",
      "FPR =  33.583959899749374\n",
      "TPR or Recall =  64.15094339622641\n",
      "Confusion matrix = \n",
      "           Predicted 0  Predicted 1\n",
      "Actual 0        265.0        134.0\n",
      "Actual 1        133.0        238.0\n",
      " \n"
     ]
    }
   ],
   "source": [
    "print(confusion_matrix_data(Xtest,ytest,model,cutoff = 0.5))"
   ]
  },
  {
   "cell_type": "markdown",
   "id": "06ba4df8",
   "metadata": {},
   "source": [
    "# Bagging"
   ]
  },
  {
   "cell_type": "code",
   "execution_count": 16,
   "id": "1d0c4fd7",
   "metadata": {},
   "outputs": [
    {
     "name": "stdout",
     "output_type": "stream",
     "text": [
      "Fitting 5 folds for each of 12 candidates, totalling 60 fits\n",
      "Train accuracy : 0.966\n",
      "Test accuracy : 0.748\n",
      "Best accuracy Through Grid Search : 0.731\n",
      "Best Parameters :  {'max_features': 1.0, 'max_samples': 0.5, 'n_estimators': 200}\n"
     ]
    }
   ],
   "source": [
    "n_samples = Xtrain.shape[0]\n",
    "n_features = Xtrain.shape[1]\n",
    "\n",
    "params = {'n_estimators': [150,200,250],\n",
    "          'max_samples': [0.5,1.0],\n",
    "          'max_features': [0.5,1.0]}\n",
    "\n",
    "cv = KFold(n_splits=5,shuffle=True,random_state=1)\n",
    "bagging_classifier_grid = GridSearchCV(BaggingClassifier(random_state=1, n_jobs=-1), \n",
    "                                      param_grid =params, cv=cv, n_jobs=-1, verbose=1)\n",
    "bagging_classifier_grid.fit(Xtrain, ytrain)\n",
    "\n",
    "print('Train accuracy : %.3f'%bagging_classifier_grid.best_estimator_.score(Xtrain, ytrain))\n",
    "print('Test accuracy : %.3f'%bagging_classifier_grid.best_estimator_.score(Xtest, ytest))\n",
    "print('Best accuracy Through Grid Search : %.3f'%bagging_classifier_grid.best_score_)\n",
    "print('Best Parameters : ',bagging_classifier_grid.best_params_)"
   ]
  },
  {
   "cell_type": "code",
   "execution_count": 7,
   "id": "5091a7e1",
   "metadata": {},
   "outputs": [],
   "source": [
    "model = BaggingClassifier(n_estimators=200,\n",
    "                          random_state=1,\n",
    "                          max_features=1.0,\n",
    "                          max_samples=0.5,\n",
    "                          n_jobs=-1,\n",
    "                          bootstrap=False,\n",
    "                          bootstrap_features=False).fit(Xtrain, ytrain)"
   ]
  },
  {
   "cell_type": "code",
   "execution_count": 9,
   "id": "81606fec",
   "metadata": {},
   "outputs": [
    {
     "data": {
      "text/html": [
       "<div>\n",
       "<style scoped>\n",
       "    .dataframe tbody tr th:only-of-type {\n",
       "        vertical-align: middle;\n",
       "    }\n",
       "\n",
       "    .dataframe tbody tr th {\n",
       "        vertical-align: top;\n",
       "    }\n",
       "\n",
       "    .dataframe thead th {\n",
       "        text-align: right;\n",
       "    }\n",
       "</style>\n",
       "<table border=\"1\" class=\"dataframe\">\n",
       "  <thead>\n",
       "    <tr style=\"text-align: right;\">\n",
       "      <th></th>\n",
       "      <th>0</th>\n",
       "      <th>1</th>\n",
       "    </tr>\n",
       "  </thead>\n",
       "  <tbody>\n",
       "    <tr>\n",
       "      <th>2</th>\n",
       "      <td>host_is_superhost</td>\n",
       "      <td>0.162003</td>\n",
       "    </tr>\n",
       "    <tr>\n",
       "      <th>16</th>\n",
       "      <td>number_of_reviews</td>\n",
       "      <td>0.127762</td>\n",
       "    </tr>\n",
       "    <tr>\n",
       "      <th>6</th>\n",
       "      <td>price</td>\n",
       "      <td>0.078815</td>\n",
       "    </tr>\n",
       "    <tr>\n",
       "      <th>20</th>\n",
       "      <td>reviews_per_month</td>\n",
       "      <td>0.068303</td>\n",
       "    </tr>\n",
       "    <tr>\n",
       "      <th>15</th>\n",
       "      <td>availability_365</td>\n",
       "      <td>0.062974</td>\n",
       "    </tr>\n",
       "    <tr>\n",
       "      <th>...</th>\n",
       "      <td>...</td>\n",
       "      <td>...</td>\n",
       "    </tr>\n",
       "    <tr>\n",
       "      <th>73</th>\n",
       "      <td>property_type_Entire loft</td>\n",
       "      <td>0.001105</td>\n",
       "    </tr>\n",
       "    <tr>\n",
       "      <th>85</th>\n",
       "      <td>room_type_Shared room</td>\n",
       "      <td>0.000271</td>\n",
       "    </tr>\n",
       "    <tr>\n",
       "      <th>80</th>\n",
       "      <td>property_type_Room in boutique hotel</td>\n",
       "      <td>0.000203</td>\n",
       "    </tr>\n",
       "    <tr>\n",
       "      <th>83</th>\n",
       "      <td>room_type_Hotel room</td>\n",
       "      <td>0.000007</td>\n",
       "    </tr>\n",
       "    <tr>\n",
       "      <th>86</th>\n",
       "      <td>has_availability_t</td>\n",
       "      <td>0.000000</td>\n",
       "    </tr>\n",
       "  </tbody>\n",
       "</table>\n",
       "<p>87 rows × 2 columns</p>\n",
       "</div>"
      ],
      "text/plain": [
       "                                       0         1\n",
       "2                      host_is_superhost  0.162003\n",
       "16                     number_of_reviews  0.127762\n",
       "6                                  price  0.078815\n",
       "20                     reviews_per_month  0.068303\n",
       "15                      availability_365  0.062974\n",
       "..                                   ...       ...\n",
       "73             property_type_Entire loft  0.001105\n",
       "85                 room_type_Shared room  0.000271\n",
       "80  property_type_Room in boutique hotel  0.000203\n",
       "83                  room_type_Hotel room  0.000007\n",
       "86                    has_availability_t  0.000000\n",
       "\n",
       "[87 rows x 2 columns]"
      ]
     },
     "execution_count": 9,
     "metadata": {},
     "output_type": "execute_result"
    }
   ],
   "source": [
    "feature_importances = np.mean([\n",
    "    tree.feature_importances_ for tree in model.estimators_\n",
    "], axis=0)\n",
    "\n",
    "importances = pd.concat([pd.Series(X.columns), pd.Series(feature_importances)], axis = 1)\n",
    "\n",
    "importances.sort_values(by=1, ascending = False)"
   ]
  },
  {
   "cell_type": "markdown",
   "id": "07de303c",
   "metadata": {},
   "source": [
    "# Random Forest"
   ]
  },
  {
   "cell_type": "code",
   "execution_count": 32,
   "id": "1386f6aa",
   "metadata": {},
   "outputs": [
    {
     "name": "stdout",
     "output_type": "stream",
     "text": [
      "max accuracy =  73.17945383615084\n",
      "params=  (300, 1)\n"
     ]
    }
   ],
   "source": [
    "params = {'n_estimators': [300, 500, 700],\n",
    "          'max_features': range(1,6),\n",
    "         }\n",
    "\n",
    "param_list=list(it.product(*(params[Name] for Name in list(params.keys()))))\n",
    "accuracy = [0]*len(param_list)\n",
    "\n",
    "i=0\n",
    "for pr in param_list:\n",
    "    model = RandomForestClassifier(random_state=1,oob_score=True,verbose=False,n_estimators = pr[0],\n",
    "                                  max_features=pr[1], n_jobs=-1).fit(Xtrain,ytrain)\n",
    "    oob_pred = model.oob_decision_function_[:,1]\n",
    "    bins=np.array([0,0.5,1])\n",
    "    cm = np.histogram2d(ytrain, oob_pred, bins=bins)[0]\n",
    "    accuracy = 100*(cm[0,0]+cm[1,1])/cm.sum()\n",
    "    i=i+1\n",
    "    \n",
    "print(\"max accuracy = \", np.max(accuracy))\n",
    "print(\"params= \", param_list[np.argmax(accuracy)])"
   ]
  },
  {
   "cell_type": "code",
   "execution_count": 52,
   "id": "7af4d442",
   "metadata": {},
   "outputs": [],
   "source": [
    "model = RandomForestClassifier(random_state=1,\n",
    "                               n_jobs=-1,\n",
    "                               max_features=1,\n",
    "                               n_estimators=300).fit(Xtrain, ytrain)"
   ]
  },
  {
   "cell_type": "code",
   "execution_count": 54,
   "id": "ec36771b",
   "metadata": {},
   "outputs": [
    {
     "data": {
      "text/html": [
       "<div>\n",
       "<style scoped>\n",
       "    .dataframe tbody tr th:only-of-type {\n",
       "        vertical-align: middle;\n",
       "    }\n",
       "\n",
       "    .dataframe tbody tr th {\n",
       "        vertical-align: top;\n",
       "    }\n",
       "\n",
       "    .dataframe thead th {\n",
       "        text-align: right;\n",
       "    }\n",
       "</style>\n",
       "<table border=\"1\" class=\"dataframe\">\n",
       "  <thead>\n",
       "    <tr style=\"text-align: right;\">\n",
       "      <th></th>\n",
       "      <th>0</th>\n",
       "      <th>1</th>\n",
       "    </tr>\n",
       "  </thead>\n",
       "  <tbody>\n",
       "    <tr>\n",
       "      <th>6</th>\n",
       "      <td>price</td>\n",
       "      <td>0.052431</td>\n",
       "    </tr>\n",
       "    <tr>\n",
       "      <th>20</th>\n",
       "      <td>reviews_per_month</td>\n",
       "      <td>0.051812</td>\n",
       "    </tr>\n",
       "    <tr>\n",
       "      <th>16</th>\n",
       "      <td>number_of_reviews</td>\n",
       "      <td>0.049996</td>\n",
       "    </tr>\n",
       "    <tr>\n",
       "      <th>15</th>\n",
       "      <td>availability_365</td>\n",
       "      <td>0.048253</td>\n",
       "    </tr>\n",
       "    <tr>\n",
       "      <th>2</th>\n",
       "      <td>host_is_superhost</td>\n",
       "      <td>0.047360</td>\n",
       "    </tr>\n",
       "    <tr>\n",
       "      <th>...</th>\n",
       "      <td>...</td>\n",
       "      <td>...</td>\n",
       "    </tr>\n",
       "    <tr>\n",
       "      <th>76</th>\n",
       "      <td>property_type_Entire serviced apartment</td>\n",
       "      <td>0.001239</td>\n",
       "    </tr>\n",
       "    <tr>\n",
       "      <th>80</th>\n",
       "      <td>property_type_Room in boutique hotel</td>\n",
       "      <td>0.001144</td>\n",
       "    </tr>\n",
       "    <tr>\n",
       "      <th>85</th>\n",
       "      <td>room_type_Shared room</td>\n",
       "      <td>0.000988</td>\n",
       "    </tr>\n",
       "    <tr>\n",
       "      <th>83</th>\n",
       "      <td>room_type_Hotel room</td>\n",
       "      <td>0.000842</td>\n",
       "    </tr>\n",
       "    <tr>\n",
       "      <th>86</th>\n",
       "      <td>has_availability_t</td>\n",
       "      <td>0.000000</td>\n",
       "    </tr>\n",
       "  </tbody>\n",
       "</table>\n",
       "<p>87 rows × 2 columns</p>\n",
       "</div>"
      ],
      "text/plain": [
       "                                          0         1\n",
       "6                                     price  0.052431\n",
       "20                        reviews_per_month  0.051812\n",
       "16                        number_of_reviews  0.049996\n",
       "15                         availability_365  0.048253\n",
       "2                         host_is_superhost  0.047360\n",
       "..                                      ...       ...\n",
       "76  property_type_Entire serviced apartment  0.001239\n",
       "80     property_type_Room in boutique hotel  0.001144\n",
       "85                    room_type_Shared room  0.000988\n",
       "83                     room_type_Hotel room  0.000842\n",
       "86                       has_availability_t  0.000000\n",
       "\n",
       "[87 rows x 2 columns]"
      ]
     },
     "execution_count": 54,
     "metadata": {},
     "output_type": "execute_result"
    }
   ],
   "source": [
    "feature_importances = np.mean([\n",
    "    tree.feature_importances_ for tree in model.estimators_\n",
    "], axis=0)\n",
    "\n",
    "importances = pd.concat([pd.Series(X.columns), pd.Series(feature_importances)], axis = 1)\n",
    "\n",
    "importances.sort_values(by=1, ascending = False)"
   ]
  },
  {
   "cell_type": "markdown",
   "id": "e1b0352f",
   "metadata": {},
   "source": [
    "# AdaBoost"
   ]
  },
  {
   "cell_type": "code",
   "execution_count": 44,
   "id": "ab135700",
   "metadata": {},
   "outputs": [
    {
     "name": "stdout",
     "output_type": "stream",
     "text": [
      "Best: 0.735698 using {'base_estimator': DecisionTreeClassifier(max_depth=4), 'learning_rate': 0.01, 'n_estimators': 200}\n"
     ]
    }
   ],
   "source": [
    "model = AdaBoostClassifier(random_state=1)\n",
    "grid = dict()\n",
    "grid['n_estimators'] = [10, 50, 100,200,500]\n",
    "grid['learning_rate'] = [0.0001, 0.001, 0.01,0.1, 1.0]\n",
    "grid['base_estimator'] = [DecisionTreeClassifier(max_depth=3),DecisionTreeClassifier(max_depth=4),DecisionTreeClassifier(max_depth=5)]\n",
    "# define the evaluation procedure\n",
    "cv = StratifiedKFold(n_splits=5, shuffle=True, random_state=1)\n",
    "# define the grid search procedure\n",
    "grid_search = GridSearchCV(estimator=model, param_grid=grid, n_jobs=-1, cv=cv,scoring='accuracy',refit='accuracy')\n",
    "# execute the grid search\n",
    "grid_result = grid_search.fit(Xtrain, ytrain)\n",
    "# summarize the best score and configuration\n",
    "print(\"Best: %f using %s\" % (grid_result.best_score_, grid_result.best_params_))\n",
    "# summarize all scores that were evaluated\n",
    "means = grid_result.cv_results_['mean_test_score']\n",
    "stds = grid_result.cv_results_['std_test_score']\n",
    "params = grid_result.cv_results_['params']\n",
    "#for mean, stdev, param in zip(means, stds, params):\n",
    "# print(\"%f (%f) with: %r\" % (mean, stdev, param)"
   ]
  },
  {
   "cell_type": "code",
   "execution_count": 55,
   "id": "620eb5c4",
   "metadata": {},
   "outputs": [],
   "source": [
    "#Model based on the optimal parameters\n",
    "model = AdaBoostClassifier(random_state=1,\n",
    "                           base_estimator=DecisionTreeClassifier(max_depth=4),\n",
    "                           learning_rate=0.01,\n",
    "                           n_estimators=200).fit(Xtrain,ytrain)"
   ]
  },
  {
   "cell_type": "markdown",
   "id": "c1bba6af",
   "metadata": {},
   "source": [
    "# Gradient Boosting"
   ]
  },
  {
   "cell_type": "code",
   "execution_count": 64,
   "id": "a1aea036",
   "metadata": {},
   "outputs": [
    {
     "name": "stdout",
     "output_type": "stream",
     "text": [
      "Best: 0.741548 using {'learning_rate': 0.01, 'max_depth': 5, 'n_estimators': 500, 'subsample': 0.5}\n"
     ]
    }
   ],
   "source": [
    "model = GradientBoostingClassifier(random_state=1)\n",
    "grid = dict()\n",
    "grid['n_estimators'] = [10, 50, 100,200,500]\n",
    "grid['learning_rate'] = [0.0001, 0.001, 0.01,0.1, 1.0]\n",
    "grid['max_depth'] = [1,2,3,4,5]\n",
    "grid['subsample'] = [0.5,1.0]\n",
    "# define the evaluation procedure\n",
    "cv = StratifiedKFold(n_splits=5, shuffle=True, random_state=1)\n",
    "# define the grid search procedure\n",
    "grid_search = GridSearchCV(estimator=model, param_grid=grid, n_jobs=-1, cv=cv, scoring='accuracy',refit='accuracy')\n",
    "# execute the grid search\n",
    "grid_result = grid_search.fit(Xtrain, ytrain)\n",
    "# summarize the best score and configuration\n",
    "print(\"Best: %f using %s\" % (grid_result.best_score_, grid_result.best_params_))\n",
    "# summarize all scores that were evaluated\n",
    "means = grid_result.cv_results_['mean_test_score']\n",
    "stds = grid_result.cv_results_['std_test_score']\n",
    "params = grid_result.cv_results_['params']\n",
    "#for mean, stdev, param in zip(means, stds, params):\n",
    "#    print(\"%f (%f) with: %r\" % (mean, stdev, param)"
   ]
  },
  {
   "cell_type": "code",
   "execution_count": 65,
   "id": "454c335c",
   "metadata": {},
   "outputs": [],
   "source": [
    "#Model based on the optimal parameters\n",
    "model = GradientBoostingClassifier(random_state=1,\n",
    "                                   max_depth=5,\n",
    "                                   learning_rate=0.01,\n",
    "                                   subsample=0.5,\n",
    "                                   n_estimators=500).fit(Xtrain,ytrain)"
   ]
  },
  {
   "cell_type": "markdown",
   "id": "eded5dfe",
   "metadata": {},
   "source": [
    "# XGBoost"
   ]
  },
  {
   "cell_type": "code",
   "execution_count": 72,
   "id": "68ea3bea",
   "metadata": {},
   "outputs": [
    {
     "name": "stdout",
     "output_type": "stream",
     "text": [
      "Fitting 5 folds for each of 144 candidates, totalling 720 fits\n",
      "{'gamma': 0.1, 'learning_rate': 0.1, 'max_depth': 6, 'n_estimators': 100, 'reg_lambda': 0, 'scale_pos_weight': 1.5} 0.7389473128497519\n"
     ]
    }
   ],
   "source": [
    "param_grid = {'n_estimators':[100,200,300],\n",
    "                'max_depth': [6,7,8],\n",
    "              'learning_rate': [0.01,0.1],\n",
    "               'gamma': [0.1,0.25],\n",
    "               'reg_lambda':[0,0.01],\n",
    "                'scale_pos_weight':[1.5,1.75]}\n",
    "\n",
    "cv = StratifiedKFold(n_splits=5,shuffle=True,random_state=1)\n",
    "optimal_params = GridSearchCV(estimator=xgb.XGBClassifier(objective = 'binary:logistic',random_state=1,\n",
    "                                                         use_label_encoder=False),\n",
    "                             param_grid = param_grid,\n",
    "                             scoring = 'accuracy',\n",
    "                             verbose = 1,\n",
    "                             n_jobs=-1,\n",
    "                             cv = cv)\n",
    "optimal_params.fit(Xtrain,ytrain)\n",
    "print(optimal_params.best_params_,optimal_params.best_score_)"
   ]
  },
  {
   "cell_type": "code",
   "execution_count": 75,
   "id": "c02e98c0",
   "metadata": {},
   "outputs": [
    {
     "data": {
      "text/plain": [
       "0.7376623376623377"
      ]
     },
     "execution_count": 75,
     "metadata": {},
     "output_type": "execute_result"
    }
   ],
   "source": [
    "model = xgb.XGBClassifier(objective = 'binary:logistic',\n",
    "                           random_state=1,\n",
    "                           gamma=0.1,\n",
    "                           learning_rate = 0.1,\n",
    "                           max_depth=6,\n",
    "                           n_estimators = 100,\n",
    "                           reg_lambda = 0,\n",
    "                           scale_pos_weight=1.5,\n",
    "                           use_label_encoder=False,\n",
    "                           eval_metric='error')\n",
    "model.fit(Xtrain,ytrain)\n",
    "model.score(Xtest,ytest)"
   ]
  },
  {
   "cell_type": "markdown",
   "id": "8839a0db",
   "metadata": {},
   "source": [
    "# Ensemble Model"
   ]
  },
  {
   "cell_type": "markdown",
   "id": "e70896de",
   "metadata": {},
   "source": [
    "## Finding accuracies of the 5 models"
   ]
  },
  {
   "cell_type": "code",
   "execution_count": 77,
   "id": "860cbb95",
   "metadata": {},
   "outputs": [
    {
     "name": "stdout",
     "output_type": "stream",
     "text": [
      "Bagging accuracy =  0.7545454545454545\n",
      "Random forest accuracy =  0.7480519480519481\n",
      "AdaBoost accuracy =  0.7506493506493507\n",
      "GradientBoost accuracy =  0.7545454545454545\n",
      "XGBoost accuracy =  0.7376623376623377\n"
     ]
    }
   ],
   "source": [
    "#Bagging\n",
    "model1 = BaggingClassifier(n_estimators=200,\n",
    "                          random_state=1,\n",
    "                          max_features=1.0,\n",
    "                          max_samples=0.5,\n",
    "                          n_jobs=-1,\n",
    "                          bootstrap=False,\n",
    "                          bootstrap_features=False).fit(Xtrain, ytrain)\n",
    "test_accuracy1=model1.score(Xtest,ytest) #Returns the classification accuracy of the model on test data\n",
    "\n",
    "#Random forest\n",
    "model2 = RandomForestClassifier(random_state=1,\n",
    "                               n_jobs=-1,\n",
    "                               max_features=1,\n",
    "                               n_estimators=300).fit(Xtrain, ytrain)\n",
    "test_accuracy2=model2.score(Xtest,ytest) #Returns the classification accuracy of the model on test data\n",
    "    \n",
    "#Ada boost\n",
    "model3 = AdaBoostClassifier(random_state=1,\n",
    "                           base_estimator=DecisionTreeClassifier(max_depth=4),\n",
    "                           learning_rate=0.01,\n",
    "                           n_estimators=200).fit(Xtrain,ytrain)\n",
    "test_accuracy3=model3.score(Xtest,ytest) #Returns the classification accuracy of the model on test data\n",
    "\n",
    "#Gradient boost\n",
    "model4 = GradientBoostingClassifier(random_state=1,\n",
    "                                   max_depth=5,\n",
    "                                   learning_rate=0.01,\n",
    "                                   subsample=0.5,\n",
    "                                   n_estimators=500).fit(Xtrain,ytrain)\n",
    "test_accuracy4=model4.score(Xtest,ytest) #Returns the classification accuracy of the model on test data\n",
    "\n",
    "\n",
    "#XGBoost\n",
    "model5 = xgb.XGBClassifier(objective = 'binary:logistic',\n",
    "                           random_state=1,\n",
    "                           gamma=0.1,\n",
    "                           learning_rate = 0.1,\n",
    "                           max_depth=6,\n",
    "                           n_estimators = 100,\n",
    "                           reg_lambda = 0,\n",
    "                           scale_pos_weight=1.5,\n",
    "                           use_label_encoder=False,\n",
    "                           eval_metric='error')\n",
    "model5.fit(Xtrain,ytrain)\n",
    "test_accuracy5=model5.score(Xtest,ytest) #Returns the classification accuracy of the model on test data\n",
    "\n",
    "\n",
    "print(\"Bagging accuracy = \",test_accuracy1)\n",
    "print(\"Random forest accuracy = \",test_accuracy2)\n",
    "print(\"AdaBoost accuracy = \",test_accuracy3)\n",
    "print(\"GradientBoost accuracy = \",test_accuracy4)\n",
    "print(\"XGBoost accuracy = \",test_accuracy5)"
   ]
  },
  {
   "cell_type": "markdown",
   "id": "8230e5f9",
   "metadata": {},
   "source": [
    "## Hard voting"
   ]
  },
  {
   "cell_type": "code",
   "execution_count": 155,
   "id": "aa2dc931",
   "metadata": {},
   "outputs": [
    {
     "name": "stdout",
     "output_type": "stream",
     "text": [
      "\n"
     ]
    }
   ],
   "source": [
    "#Bagging\n",
    "model1 = BaggingClassifier(n_estimators=200,\n",
    "                          random_state=1,\n",
    "                          max_features=1.0,\n",
    "                          max_samples=0.5,\n",
    "                          n_jobs=-1,\n",
    "                          bootstrap=False,\n",
    "                          bootstrap_features=False)\n",
    "#Random forest\n",
    "model2 = RandomForestClassifier(random_state=1,\n",
    "                               n_jobs=-1,\n",
    "                               max_features=1,\n",
    "                               n_estimators=300)\n",
    "    \n",
    "#Ada boost\n",
    "model3 = AdaBoostClassifier(random_state=1,\n",
    "                           base_estimator=DecisionTreeClassifier(max_depth=4),\n",
    "                           learning_rate=0.01,\n",
    "                           n_estimators=200)\n",
    "\n",
    "#Gradient boost\n",
    "model = GradientBoostingClassifier(random_state=1,\n",
    "                                   max_depth=5,\n",
    "                                   learning_rate=0.01,\n",
    "                                   subsample=0.5,\n",
    "                                   n_estimators=500)\n",
    "\n",
    "#XGBoost\n",
    "model5 = xgb.XGBClassifier(objective = 'binary:logistic',\n",
    "                           random_state=1,\n",
    "                           gamma=0.1,\n",
    "                           learning_rate = 0.1,\n",
    "                           max_depth=6,\n",
    "                           n_estimators = 100,\n",
    "                           reg_lambda = 0,\n",
    "                           scale_pos_weight=1.5,\n",
    "                           use_label_encoder=False,\n",
    "                           eval_metric='error')\n",
    "\n",
    "\n",
    "ensemble_model = VotingClassifier(estimators=[('bag', model1),('rf',model2),\n",
    "                                              ('ada',model3),('gb',model4),('xgb',model5)],\n",
    "                                 voting = \"hard\")\n",
    "ensemble_model.fit(Xtrain,ytrain)\n",
    "print(\"\")"
   ]
  },
  {
   "cell_type": "code",
   "execution_count": 156,
   "id": "64fa6f73",
   "metadata": {
    "scrolled": true
   },
   "outputs": [
    {
     "data": {
      "text/plain": [
       "0.7649350649350649"
      ]
     },
     "execution_count": 156,
     "metadata": {},
     "output_type": "execute_result"
    }
   ],
   "source": [
    "np.mean(ensemble_model.predict(Xtest)==ytest)"
   ]
  },
  {
   "cell_type": "code",
   "execution_count": 157,
   "id": "926655c1",
   "metadata": {},
   "outputs": [
    {
     "name": "stdout",
     "output_type": "stream",
     "text": [
      "Precision =  73.75\n"
     ]
    }
   ],
   "source": [
    "pred_values = ensemble_model.predict(Xtest)\n",
    "bins=np.array([0,0.5,1])\n",
    "cm = np.histogram2d(ytest, pred_values, bins=bins)[0]\n",
    "cm_df = pd.DataFrame(cm)\n",
    "cm_df.columns = ['Predicted 0','Predicted 1']\n",
    "cm_df = cm_df.rename(index={0: 'Actual 0',1:'Actual 1'})\n",
    "precision = 100*(cm[1,1])/(cm[0,1]+cm[1,1])\n",
    "print(\"Precision = \", precision)"
   ]
  },
  {
   "cell_type": "markdown",
   "id": "84333521",
   "metadata": {},
   "source": [
    "## Soft voting"
   ]
  },
  {
   "cell_type": "code",
   "execution_count": 83,
   "id": "0cc681ac",
   "metadata": {},
   "outputs": [
    {
     "data": {
      "text/plain": [
       "0.7545454545454545"
      ]
     },
     "execution_count": 83,
     "metadata": {},
     "output_type": "execute_result"
    }
   ],
   "source": [
    "ensemble_model = VotingClassifier(estimators=[('bag', model1),('rf',model2),\n",
    "                                              ('ada',model3),('gb',model4),('xgb',model5)],\n",
    "                                 voting = \"soft\")\n",
    "ensemble_model.fit(Xtrain,ytrain)\n",
    "np.mean(ensemble_model.predict(Xtest)==ytest)"
   ]
  },
  {
   "cell_type": "code",
   "execution_count": 84,
   "id": "a94d9fbd",
   "metadata": {},
   "outputs": [
    {
     "name": "stdout",
     "output_type": "stream",
     "text": [
      "Accuracy =  96.32639791937581\n",
      "Precision =  95.53286534779834\n",
      "FNR =  2.792207792207792\n",
      "FPR =  4.557291666666667\n",
      "TPR or Recall =  97.20779220779221\n",
      "Confusion matrix = \n",
      "           Predicted 0  Predicted 1\n",
      "Actual 0       1466.0         70.0\n",
      "Actual 1         43.0       1497.0\n",
      " \n",
      "Accuracy =  75.45454545454545\n",
      "Precision =  72.75\n",
      "FNR =  21.5633423180593\n",
      "FPR =  27.318295739348372\n",
      "TPR or Recall =  78.4366576819407\n",
      "Confusion matrix = \n",
      "           Predicted 0  Predicted 1\n",
      "Actual 0        290.0        109.0\n",
      "Actual 1         80.0        291.0\n",
      " \n"
     ]
    }
   ],
   "source": [
    "print(confusion_matrix_data(Xtrain,ytrain,ensemble_model,cutoff=0.5))\n",
    "print(confusion_matrix_data(Xtest,ytest,ensemble_model,cutoff=0.5))"
   ]
  },
  {
   "cell_type": "markdown",
   "id": "90600728",
   "metadata": {},
   "source": [
    "## Stacking"
   ]
  },
  {
   "cell_type": "code",
   "execution_count": 85,
   "id": "35f39e13",
   "metadata": {},
   "outputs": [
    {
     "data": {
      "text/plain": [
       "0.7506493506493507"
      ]
     },
     "execution_count": 85,
     "metadata": {},
     "output_type": "execute_result"
    }
   ],
   "source": [
    "#Using Logistic regression as the meta model (final_estimator)\n",
    "ensemble_model = StackingClassifier(estimators=[('bag', model1),('rf',model2),\n",
    "                                              ('ada',model3),('gb',model4),('xgb',model5)],\n",
    "                                   final_estimator=LogisticRegression(random_state=1,max_iter=10000),n_jobs=-1,\n",
    "                                   cv = StratifiedKFold(n_splits=5,shuffle=True,random_state=1))\n",
    "ensemble_model.fit(Xtrain,ytrain)\n",
    "np.mean(ensemble_model.predict(Xtest)==ytest)"
   ]
  },
  {
   "cell_type": "code",
   "execution_count": 86,
   "id": "db14156a",
   "metadata": {},
   "outputs": [
    {
     "name": "stdout",
     "output_type": "stream",
     "text": [
      "Accuracy =  94.66840052015604\n",
      "Precision =  94.61738002594034\n",
      "FNR =  5.259740259740259\n",
      "FPR =  5.403645833333333\n",
      "TPR or Recall =  94.74025974025975\n",
      "Confusion matrix = \n",
      "           Predicted 0  Predicted 1\n",
      "Actual 0       1453.0         83.0\n",
      "Actual 1         81.0       1459.0\n",
      " \n",
      "Accuracy =  75.06493506493507\n",
      "Precision =  73.1266149870801\n",
      "FNR =  23.71967654986523\n",
      "FPR =  26.06516290726817\n",
      "TPR or Recall =  76.28032345013477\n",
      "Confusion matrix = \n",
      "           Predicted 0  Predicted 1\n",
      "Actual 0        295.0        104.0\n",
      "Actual 1         88.0        283.0\n",
      " \n"
     ]
    }
   ],
   "source": [
    "print(confusion_matrix_data(Xtrain,ytrain,ensemble_model,cutoff=0.5))\n",
    "print(confusion_matrix_data(Xtest,ytest,ensemble_model,cutoff=0.5))"
   ]
  },
  {
   "cell_type": "code",
   "execution_count": 115,
   "id": "8cf2fd8d",
   "metadata": {},
   "outputs": [
    {
     "data": {
      "text/plain": [
       "0.7376623376623377"
      ]
     },
     "execution_count": 115,
     "metadata": {},
     "output_type": "execute_result"
    }
   ],
   "source": [
    "#Using a tuned random forest as the meta model (final_estimator)\n",
    "\n",
    "ensemble_model = StackingClassifier(estimators=[('bag', model1),('rf',model2),\n",
    "                                                ('ada',model3),('gb',model4),('xgb',model5)],\n",
    "                                   final_estimator=RandomForestClassifier(n_estimators=300, max_features=3,\n",
    "                                                                          random_state=1,oob_score=True),n_jobs=-1,\n",
    "                                   cv = StratifiedKFold(n_splits=5,shuffle=True,random_state=1))\n",
    "ensemble_model.fit(Xtrain,ytrain)\n",
    "np.mean(ensemble_model.predict(Xtest)==ytest)"
   ]
  },
  {
   "cell_type": "code",
   "execution_count": 117,
   "id": "476cb31f",
   "metadata": {},
   "outputs": [
    {
     "data": {
      "text/plain": [
       "0.7213914174252276"
      ]
     },
     "execution_count": 117,
     "metadata": {},
     "output_type": "execute_result"
    }
   ],
   "source": [
    "#The final predictor - random forest obtains the maximum oob_score for max_features = 1\n",
    "ensemble_model.final_estimator_.oob_score_"
   ]
  },
  {
   "cell_type": "code",
   "execution_count": 118,
   "id": "abc7eea9",
   "metadata": {
    "scrolled": true
   },
   "outputs": [
    {
     "name": "stdout",
     "output_type": "stream",
     "text": [
      "Accuracy =  83.55006501950585\n",
      "Precision =  80.70071258907363\n",
      "FNR =  11.753246753246753\n",
      "FPR =  21.158854166666668\n",
      "TPR or Recall =  88.24675324675324\n",
      "Confusion matrix = \n",
      "           Predicted 0  Predicted 1\n",
      "Actual 0       1211.0        325.0\n",
      "Actual 1        181.0       1359.0\n",
      " \n",
      "Accuracy =  73.8961038961039\n",
      "Precision =  71.68367346938776\n",
      "FNR =  24.258760107816713\n",
      "FPR =  27.81954887218045\n",
      "TPR or Recall =  75.74123989218329\n",
      "Confusion matrix = \n",
      "           Predicted 0  Predicted 1\n",
      "Actual 0        288.0        111.0\n",
      "Actual 1         90.0        281.0\n",
      " \n"
     ]
    }
   ],
   "source": [
    "print(confusion_matrix_data(Xtrain,ytrain,ensemble_model,cutoff=0.5))\n",
    "print(confusion_matrix_data(Xtest,ytest,ensemble_model,cutoff=0.5))"
   ]
  },
  {
   "cell_type": "markdown",
   "id": "6e155e0e",
   "metadata": {},
   "source": [
    "# Best model (for test accuracy)  is hard voting"
   ]
  }
 ],
 "metadata": {
  "kernelspec": {
   "display_name": "Python 3",
   "language": "python",
   "name": "python3"
  },
  "language_info": {
   "codemirror_mode": {
    "name": "ipython",
    "version": 3
   },
   "file_extension": ".py",
   "mimetype": "text/x-python",
   "name": "python",
   "nbconvert_exporter": "python",
   "pygments_lexer": "ipython3",
   "version": "3.8.8"
  }
 },
 "nbformat": 4,
 "nbformat_minor": 5
}
